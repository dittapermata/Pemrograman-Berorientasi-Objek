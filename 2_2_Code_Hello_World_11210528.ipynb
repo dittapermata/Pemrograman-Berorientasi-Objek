{
 "cells": [
  {
   "cell_type": "code",
   "execution_count": 1,
   "id": "5754e073",
   "metadata": {},
   "outputs": [
    {
     "name": "stdout",
     "output_type": "stream",
     "text": [
      "25\n"
     ]
    }
   ],
   "source": [
    "print(10*2+5)"
   ]
  },
  {
   "cell_type": "code",
   "execution_count": 2,
   "id": "aa00f0c7",
   "metadata": {},
   "outputs": [
    {
     "name": "stdout",
     "output_type": "stream",
     "text": [
      "2023 Aku kaya mulia\n"
     ]
    }
   ],
   "source": [
    "print(\"2023 Aku kaya mulia\")"
   ]
  },
  {
   "cell_type": "code",
   "execution_count": 3,
   "id": "3b699af5",
   "metadata": {},
   "outputs": [
    {
     "name": "stdout",
     "output_type": "stream",
     "text": [
      "Rr. Ditta Permatasari\n"
     ]
    }
   ],
   "source": [
    "print(\"Rr. Ditta Permatasari\")"
   ]
  },
  {
   "cell_type": "code",
   "execution_count": null,
   "id": "ee359a37",
   "metadata": {},
   "outputs": [],
   "source": []
  }
 ],
 "metadata": {
  "kernelspec": {
   "display_name": "Python 3 (ipykernel)",
   "language": "python",
   "name": "python3"
  },
  "language_info": {
   "codemirror_mode": {
    "name": "ipython",
    "version": 3
   },
   "file_extension": ".py",
   "mimetype": "text/x-python",
   "name": "python",
   "nbconvert_exporter": "python",
   "pygments_lexer": "ipython3",
   "version": "3.8.3"
  }
 },
 "nbformat": 4,
 "nbformat_minor": 5
}
