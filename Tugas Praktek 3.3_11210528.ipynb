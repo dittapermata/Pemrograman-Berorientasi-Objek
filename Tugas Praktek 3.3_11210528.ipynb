{
 "cells": [
  {
   "cell_type": "code",
   "execution_count": 1,
   "id": "05e50069",
   "metadata": {},
   "outputs": [],
   "source": [
    "var_string=\"Mari belajar python\"\n",
    "var_int=10\n",
    "var_float=3.14\n",
    "var_list=[1,2,3,4]\n",
    "var_tuple=(\"satu\",\"dua\",\"tiga\")\n",
    "var_dict={\"nama\":\"Ali\", 'umur':20}"
   ]
  },
  {
   "cell_type": "code",
   "execution_count": 2,
   "id": "10e259a1",
   "metadata": {},
   "outputs": [
    {
     "name": "stdout",
     "output_type": "stream",
     "text": [
      "Mari belajar python\n",
      "10\n",
      "3.14\n",
      "[1, 2, 3, 4]\n",
      "('satu', 'dua', 'tiga')\n",
      "{'nama': 'Ali', 'umur': 20}\n"
     ]
    }
   ],
   "source": [
    "print(var_string)\n",
    "print(var_int)\n",
    "print(var_float)\n",
    "print(var_list)\n",
    "print(var_tuple)\n",
    "print(var_dict)"
   ]
  },
  {
   "cell_type": "code",
   "execution_count": 3,
   "id": "85088df6",
   "metadata": {},
   "outputs": [
    {
     "name": "stdout",
     "output_type": "stream",
     "text": [
      "<class 'str'>\n",
      "<class 'int'>\n",
      "<class 'float'>\n",
      "<class 'list'>\n",
      "<class 'tuple'>\n",
      "<class 'dict'>\n"
     ]
    }
   ],
   "source": [
    "print(type(var_string))\n",
    "print(type(var_int))\n",
    "print(type(var_float))\n",
    "print(type(var_list))\n",
    "print(type(var_tuple))\n",
    "print(type(var_dict))"
   ]
  },
  {
   "cell_type": "code",
   "execution_count": null,
   "id": "687d5618",
   "metadata": {},
   "outputs": [],
   "source": []
  }
 ],
 "metadata": {
  "kernelspec": {
   "display_name": "Python 3 (ipykernel)",
   "language": "python",
   "name": "python3"
  },
  "language_info": {
   "codemirror_mode": {
    "name": "ipython",
    "version": 3
   },
   "file_extension": ".py",
   "mimetype": "text/x-python",
   "name": "python",
   "nbconvert_exporter": "python",
   "pygments_lexer": "ipython3",
   "version": "3.8.3"
  }
 },
 "nbformat": 4,
 "nbformat_minor": 5
}
