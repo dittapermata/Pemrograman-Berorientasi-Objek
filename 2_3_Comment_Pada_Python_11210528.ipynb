{
 "cells": [
  {
   "cell_type": "code",
   "execution_count": 1,
   "id": "5ab14ae9",
   "metadata": {},
   "outputs": [
    {
     "name": "stdout",
     "output_type": "stream",
     "text": [
      "25\n"
     ]
    }
   ],
   "source": [
    "#ini adalah fungsi matematika\n",
    "print(10*2+5)"
   ]
  },
  {
   "cell_type": "code",
   "execution_count": 2,
   "id": "c54eae53",
   "metadata": {},
   "outputs": [
    {
     "name": "stdout",
     "output_type": "stream",
     "text": [
      "20\n"
     ]
    }
   ],
   "source": [
    "#ini adalah fungsi mencetak kalimat\n",
    "print(\"20\")"
   ]
  },
  {
   "cell_type": "code",
   "execution_count": 3,
   "id": "5319b057",
   "metadata": {},
   "outputs": [
    {
     "name": "stdout",
     "output_type": "stream",
     "text": [
      "Rr. Ditta Permatasari\n"
     ]
    }
   ],
   "source": [
    "#Assalamu'alaikum, nama saya Rr. Ditta Permatasari\n",
    "print(\"Rr. Ditta Permatasari\")"
   ]
  },
  {
   "cell_type": "code",
   "execution_count": 4,
   "id": "6abdeff0",
   "metadata": {},
   "outputs": [
    {
     "name": "stdout",
     "output_type": "stream",
     "text": [
      "11210528\n"
     ]
    }
   ],
   "source": [
    "#ini adalah NIM saya, saya angkatan 2021\n",
    "print(\"11210528\")"
   ]
  },
  {
   "cell_type": "code",
   "execution_count": null,
   "id": "5f331fa2",
   "metadata": {},
   "outputs": [],
   "source": []
  }
 ],
 "metadata": {
  "kernelspec": {
   "display_name": "Python 3 (ipykernel)",
   "language": "python",
   "name": "python3"
  },
  "language_info": {
   "codemirror_mode": {
    "name": "ipython",
    "version": 3
   },
   "file_extension": ".py",
   "mimetype": "text/x-python",
   "name": "python",
   "nbconvert_exporter": "python",
   "pygments_lexer": "ipython3",
   "version": "3.8.3"
  }
 },
 "nbformat": 4,
 "nbformat_minor": 5
}
